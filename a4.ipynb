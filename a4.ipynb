{
 "cells": [
  {
   "cell_type": "code",
   "execution_count": 46,
   "id": "a2759c31",
   "metadata": {},
   "outputs": [],
   "source": [
    "import sys\n",
    "import csv\n",
    "import requests\n",
    "import re\n",
    "from bs4 import BeautifulSoup"
   ]
  },
  {
   "cell_type": "code",
   "execution_count": 50,
   "id": "968cff0c",
   "metadata": {},
   "outputs": [],
   "source": [
    "def load_page(url):\n",
    "    with requests.get(url) as f:\n",
    "        page = f.text\n",
    "    return page"
   ]
  },
  {
   "cell_type": "code",
   "execution_count": 61,
   "id": "c918ff2d",
   "metadata": {},
   "outputs": [],
   "source": [
    "def get_song_info(url):\n",
    "    song_page = BeautifulSoup(load_page(url), 'lxml')                  # Parse the requested page\n",
    "    interesting_html = song_page.find('div')        # Get the part of the page where the interesting information is 'stored'\n",
    "    if not interesting_html:                                           # Check if an article tag was found, not all pages have one\n",
    "        print('No information availible for song at {}'.format(url), file=sys.stderr)\n",
    "        return {}           \n",
    "# Return an empty dictionary\n",
    "    content = interesting_html.find('ringtone')\n",
    "    for row in content.find_all(class_ ='ringtone'):\n",
    "        credits = get_element_text(interesting_html.find(class_='feat')) # title = interesting_html.find('h2').text.strip() # We already have this information\n",
    "        lyrics = get_element_text(interesting_html.find(class_='div'))\n",
    "        lyrics = lyrics.replace('\\r\\n', '\\n')  \n",
    "        lyrics = re.sub('\\t\\t+', '\\n', lyrics)\n",
    "    return {'credits': credits, 'lyrics': lyrics}     "
   ]
  },
  {
   "cell_type": "code",
   "execution_count": 62,
   "id": "b1f1fd6c",
   "metadata": {},
   "outputs": [
    {
     "ename": "AttributeError",
     "evalue": "'NoneType' object has no attribute 'find_all'",
     "output_type": "error",
     "traceback": [
      "\u001b[0;31m---------------------------------------------------------------------------\u001b[0m",
      "\u001b[0;31mAttributeError\u001b[0m                            Traceback (most recent call last)",
      "\u001b[0;32m/var/folders/5h/5nh23ckd07xcqwk6v6cknsc80000gn/T/ipykernel_38575/3299346252.py\u001b[0m in \u001b[0;36m<module>\u001b[0;34m\u001b[0m\n\u001b[1;32m      1\u001b[0m \u001b[0msong_url\u001b[0m \u001b[0;34m=\u001b[0m \u001b[0;34m'https://www.azlyrics.com/lyrics/charlieputh/marvingaye.html'\u001b[0m\u001b[0;34m\u001b[0m\u001b[0;34m\u001b[0m\u001b[0m\n\u001b[0;32m----> 2\u001b[0;31m \u001b[0msong_info\u001b[0m \u001b[0;34m=\u001b[0m \u001b[0mget_song_info\u001b[0m\u001b[0;34m(\u001b[0m\u001b[0msong_url\u001b[0m\u001b[0;34m)\u001b[0m\u001b[0;34m\u001b[0m\u001b[0;34m\u001b[0m\u001b[0m\n\u001b[0m\u001b[1;32m      3\u001b[0m \u001b[0;32mfor\u001b[0m \u001b[0mkey\u001b[0m\u001b[0;34m,\u001b[0m \u001b[0mvalue\u001b[0m \u001b[0;32min\u001b[0m \u001b[0msong_info\u001b[0m\u001b[0;34m.\u001b[0m\u001b[0mitems\u001b[0m\u001b[0;34m(\u001b[0m\u001b[0;34m)\u001b[0m\u001b[0;34m:\u001b[0m\u001b[0;34m\u001b[0m\u001b[0;34m\u001b[0m\u001b[0m\n\u001b[1;32m      4\u001b[0m     \u001b[0;32mif\u001b[0m \u001b[0mkey\u001b[0m \u001b[0;34m==\u001b[0m \u001b[0;34m'lyrics'\u001b[0m\u001b[0;34m:\u001b[0m\u001b[0;34m\u001b[0m\u001b[0;34m\u001b[0m\u001b[0m\n\u001b[1;32m      5\u001b[0m         \u001b[0mprint\u001b[0m\u001b[0;34m(\u001b[0m\u001b[0mvalue\u001b[0m\u001b[0;34m)\u001b[0m\u001b[0;34m\u001b[0m\u001b[0;34m\u001b[0m\u001b[0m\n",
      "\u001b[0;32m/var/folders/5h/5nh23ckd07xcqwk6v6cknsc80000gn/T/ipykernel_38575/1324407257.py\u001b[0m in \u001b[0;36mget_song_info\u001b[0;34m(url)\u001b[0m\n\u001b[1;32m      7\u001b[0m \u001b[0;31m# Return an empty dictionary\u001b[0m\u001b[0;34m\u001b[0m\u001b[0;34m\u001b[0m\u001b[0m\n\u001b[1;32m      8\u001b[0m     \u001b[0mcontent\u001b[0m \u001b[0;34m=\u001b[0m \u001b[0minteresting_html\u001b[0m\u001b[0;34m.\u001b[0m\u001b[0mfind\u001b[0m\u001b[0;34m(\u001b[0m\u001b[0;34m'ringtone'\u001b[0m\u001b[0;34m)\u001b[0m\u001b[0;34m\u001b[0m\u001b[0;34m\u001b[0m\u001b[0m\n\u001b[0;32m----> 9\u001b[0;31m     \u001b[0;32mfor\u001b[0m \u001b[0mrow\u001b[0m \u001b[0;32min\u001b[0m \u001b[0mcontent\u001b[0m\u001b[0;34m.\u001b[0m\u001b[0mfind_all\u001b[0m\u001b[0;34m(\u001b[0m\u001b[0mclass_\u001b[0m \u001b[0;34m=\u001b[0m\u001b[0;34m'ringtone'\u001b[0m\u001b[0;34m)\u001b[0m\u001b[0;34m:\u001b[0m\u001b[0;34m\u001b[0m\u001b[0;34m\u001b[0m\u001b[0m\n\u001b[0m\u001b[1;32m     10\u001b[0m         \u001b[0mcredits\u001b[0m \u001b[0;34m=\u001b[0m \u001b[0mget_element_text\u001b[0m\u001b[0;34m(\u001b[0m\u001b[0minteresting_html\u001b[0m\u001b[0;34m.\u001b[0m\u001b[0mfind\u001b[0m\u001b[0;34m(\u001b[0m\u001b[0mclass_\u001b[0m\u001b[0;34m=\u001b[0m\u001b[0;34m'feat'\u001b[0m\u001b[0;34m)\u001b[0m\u001b[0;34m)\u001b[0m \u001b[0;31m# title = interesting_html.find('h2').text.strip() # We already have this information\u001b[0m\u001b[0;34m\u001b[0m\u001b[0;34m\u001b[0m\u001b[0m\n\u001b[1;32m     11\u001b[0m         \u001b[0mlyrics\u001b[0m \u001b[0;34m=\u001b[0m \u001b[0mget_element_text\u001b[0m\u001b[0;34m(\u001b[0m\u001b[0minteresting_html\u001b[0m\u001b[0;34m.\u001b[0m\u001b[0mfind\u001b[0m\u001b[0;34m(\u001b[0m\u001b[0mclass_\u001b[0m\u001b[0;34m=\u001b[0m\u001b[0;34m'div'\u001b[0m\u001b[0;34m)\u001b[0m\u001b[0;34m)\u001b[0m\u001b[0;34m\u001b[0m\u001b[0;34m\u001b[0m\u001b[0m\n",
      "\u001b[0;31mAttributeError\u001b[0m: 'NoneType' object has no attribute 'find_all'"
     ]
    }
   ],
   "source": [
    "song_url = 'https://www.azlyrics.com/lyrics/charlieputh/marvingaye.html'\n",
    "song_info = get_song_info(song_url)\n",
    "for key, value in song_info.items():\n",
    "    if key == 'lyrics':\n",
    "        print(value)"
   ]
  },
  {
   "cell_type": "code",
   "execution_count": 63,
   "id": "9b752dd6",
   "metadata": {},
   "outputs": [],
   "source": [
    "def get_songs(url):\n",
    "    index_page = BeautifulSoup(load_page(url), 'lxml')        # Parse the page\n",
    "    items = index_page.find(id='listAlbum')                   # Get the list from the webpage\n",
    "    if not items:                                             # If the webpage does not contain the list, we should exit\n",
    "        print('Something went wrong!', file=sys.stderr)\n",
    "        sys.exit()\n",
    "    data = []\n",
    "    for row in items.find_all(class_='listalbum-item'):          # Go over the entries line-by-line\n",
    "        # Get the text in the first element with the class 'song'\n",
    "        # Note: we use class_ with an underscore, as class is already a\n",
    "        # reserved python keyword. This means we can't use it as a\n",
    "        # variable name.\n",
    "        song = row.find('a').text.strip() # Link text\n",
    "        link = row.find('a').get('href')  # Link url\n",
    "        #album_name = row.find(class_='release').text.strip()\n",
    "        #first_played = row.find_all(class_='played')[0].text.strip()\n",
    "        #last_played = row.find_all(class_='played')[1].text.strip()\n",
    "       # times_played = row.find(class_='times').text.strip()\n",
    "        data.append({                                         # Store the data in a dictionary, and add that to our list\n",
    "                     'listalbum-item': song,\n",
    "                     'listalbum-item': link,\n",
    "                    # 'album name': album_name,\n",
    "                    # 'first played': first_played,\n",
    "                    # 'last played': last_played,\n",
    "                    # 'times played': times_played\n",
    "                    })\n",
    "    return data"
   ]
  },
  {
   "cell_type": "code",
   "execution_count": 64,
   "id": "0c76f5e2",
   "metadata": {},
   "outputs": [
    {
     "ename": "SyntaxError",
     "evalue": "invalid syntax (1132005124.py, line 5)",
     "output_type": "error",
     "traceback": [
      "\u001b[0;36m  File \u001b[0;32m\"/var/folders/5h/5nh23ckd07xcqwk6v6cknsc80000gn/T/ipykernel_38575/1132005124.py\"\u001b[0;36m, line \u001b[0;32m5\u001b[0m\n\u001b[0;31m    url = row['link']\u001b[0m\n\u001b[0m    ^\u001b[0m\n\u001b[0;31mSyntaxError\u001b[0m\u001b[0;31m:\u001b[0m invalid syntax\n"
     ]
    }
   ],
   "source": [
    "index_url = 'https://www.azlyrics.com/c/charlieputh.html'         # Contains a list of songs\n",
    "song_data = get_songs(index_url)                      # Get songs with metadata\n",
    "for row in song_data:\n",
    "    print('Scraping info on {}.'.format(row['listalbum-item']) # Might be useful for debugging\n",
    "    url = row['link']\n",
    "    song_info = get_song_info(url)                    # Get lyrics and credits for this song, if available\n",
    "    for key, value in song_info.items():\n",
    "        row[key] = value        "
   ]
  },
  {
   "cell_type": "code",
   "execution_count": null,
   "id": "14997cc8",
   "metadata": {},
   "outputs": [],
   "source": []
  }
 ],
 "metadata": {
  "kernelspec": {
   "display_name": "Python 3 (ipykernel)",
   "language": "python",
   "name": "python3"
  },
  "language_info": {
   "codemirror_mode": {
    "name": "ipython",
    "version": 3
   },
   "file_extension": ".py",
   "mimetype": "text/x-python",
   "name": "python",
   "nbconvert_exporter": "python",
   "pygments_lexer": "ipython3",
   "version": "3.9.7"
  }
 },
 "nbformat": 4,
 "nbformat_minor": 5
}
